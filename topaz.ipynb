{
 "cells": [
  {
   "cell_type": "code",
   "execution_count": 1,
   "id": "614ac904",
   "metadata": {
    "execution": {
     "iopub.execute_input": "2022-03-30T08:21:13.762319Z",
     "iopub.status.busy": "2022-03-30T08:21:13.761008Z",
     "iopub.status.idle": "2022-03-30T08:21:13.776704Z",
     "shell.execute_reply": "2022-03-30T08:21:13.777338Z",
     "shell.execute_reply.started": "2022-03-30T08:16:19.030927Z"
    },
    "papermill": {
     "duration": 0.043802,
     "end_time": "2022-03-30T08:21:13.777715",
     "exception": false,
     "start_time": "2022-03-30T08:21:13.733913",
     "status": "completed"
    },
    "tags": []
   },
   "outputs": [
    {
     "data": {
      "text/plain": [
       "1"
      ]
     },
     "execution_count": 1,
     "metadata": {},
     "output_type": "execute_result"
    }
   ],
   "source": [
    "1"
   ]
  },
  {
   "cell_type": "code",
   "execution_count": 2,
   "id": "11b0ac24",
   "metadata": {
    "execution": {
     "iopub.execute_input": "2022-03-30T08:21:13.826010Z",
     "iopub.status.busy": "2022-03-30T08:21:13.824948Z",
     "iopub.status.idle": "2022-03-30T08:21:15.172870Z",
     "shell.execute_reply": "2022-03-30T08:21:15.173482Z",
     "shell.execute_reply.started": "2022-03-30T08:16:19.480848Z"
    },
    "papermill": {
     "duration": 1.373144,
     "end_time": "2022-03-30T08:21:15.173688",
     "exception": false,
     "start_time": "2022-03-30T08:21:13.800544",
     "status": "completed"
    },
    "tags": []
   },
   "outputs": [],
   "source": [
    "import sys\n",
    "import numpy as np\n",
    "\n",
    "import torch\n",
    "import torch.nn as nn\n",
    "import torch.nn.functional as F\n",
    "import torch.utils.data\n",
    "import glob\n",
    "import os"
   ]
  },
  {
   "cell_type": "code",
   "execution_count": 3,
   "id": "c7f2f09e",
   "metadata": {
    "execution": {
     "iopub.execute_input": "2022-03-30T08:21:15.223094Z",
     "iopub.status.busy": "2022-03-30T08:21:15.222359Z",
     "iopub.status.idle": "2022-03-30T08:21:33.104613Z",
     "shell.execute_reply": "2022-03-30T08:21:33.103887Z",
     "shell.execute_reply.started": "2022-03-30T08:16:19.960668Z"
    },
    "papermill": {
     "duration": 17.909321,
     "end_time": "2022-03-30T08:21:33.104832",
     "exception": false,
     "start_time": "2022-03-30T08:21:15.195511",
     "status": "completed"
    },
    "tags": []
   },
   "outputs": [
    {
     "name": "stdout",
     "output_type": "stream",
     "text": [
      "Collecting topaz-em\r\n",
      "  Downloading topaz_em-0.2.5-py3-none-any.whl (48.2 MB)\r\n",
      "     |████████████████████████████████| 48.2 MB 1.8 MB/s            \r\n",
      "\u001b[?25hCollecting mrcfile\r\n",
      "  Downloading mrcfile-1.3.0-py2.py3-none-any.whl (40 kB)\r\n",
      "     |████████████████████████████████| 40 kB 14 kB/s              \r\n",
      "\u001b[?25hRequirement already satisfied: scikit-learn>=0.19.0 in /opt/conda/lib/python3.7/site-packages (from topaz-em) (1.0.1)\r\n",
      "Requirement already satisfied: numpy>=1.11 in /opt/conda/lib/python3.7/site-packages (from topaz-em) (1.20.3)\r\n",
      "Requirement already satisfied: scipy>=0.17.0 in /opt/conda/lib/python3.7/site-packages (from topaz-em) (1.7.3)\r\n",
      "Requirement already satisfied: torch>=1.0.0 in /opt/conda/lib/python3.7/site-packages (from topaz-em) (1.9.1+cpu)\r\n",
      "Requirement already satisfied: future in /opt/conda/lib/python3.7/site-packages (from topaz-em) (0.18.2)\r\n",
      "Requirement already satisfied: torchvision in /opt/conda/lib/python3.7/site-packages (from topaz-em) (0.10.1+cpu)\r\n",
      "Requirement already satisfied: pandas in /opt/conda/lib/python3.7/site-packages (from topaz-em) (1.3.5)\r\n",
      "Requirement already satisfied: pillow>=6.2.0 in /opt/conda/lib/python3.7/site-packages (from topaz-em) (8.2.0)\r\n",
      "Requirement already satisfied: joblib>=0.11 in /opt/conda/lib/python3.7/site-packages (from scikit-learn>=0.19.0->topaz-em) (1.1.0)\r\n",
      "Requirement already satisfied: threadpoolctl>=2.0.0 in /opt/conda/lib/python3.7/site-packages (from scikit-learn>=0.19.0->topaz-em) (3.0.0)\r\n",
      "Requirement already satisfied: typing-extensions in /opt/conda/lib/python3.7/site-packages (from torch>=1.0.0->topaz-em) (4.1.1)\r\n",
      "Requirement already satisfied: python-dateutil>=2.7.3 in /opt/conda/lib/python3.7/site-packages (from pandas->topaz-em) (2.8.2)\r\n",
      "Requirement already satisfied: pytz>=2017.3 in /opt/conda/lib/python3.7/site-packages (from pandas->topaz-em) (2021.3)\r\n",
      "Requirement already satisfied: six>=1.5 in /opt/conda/lib/python3.7/site-packages (from python-dateutil>=2.7.3->pandas->topaz-em) (1.16.0)\r\n",
      "Installing collected packages: topaz-em, mrcfile\r\n",
      "Successfully installed mrcfile-1.3.0 topaz-em-0.2.5\r\n",
      "\u001b[33mWARNING: Running pip as the 'root' user can result in broken permissions and conflicting behaviour with the system package manager. It is recommended to use a virtual environment instead: https://pip.pypa.io/warnings/venv\u001b[0m\r\n"
     ]
    }
   ],
   "source": [
    "!pip install topaz-em mrcfile"
   ]
  },
  {
   "cell_type": "code",
   "execution_count": 4,
   "id": "a746740c",
   "metadata": {
    "execution": {
     "iopub.execute_input": "2022-03-30T08:21:33.246523Z",
     "iopub.status.busy": "2022-03-30T08:21:33.245747Z",
     "iopub.status.idle": "2022-03-30T08:21:34.828475Z",
     "shell.execute_reply": "2022-03-30T08:21:34.827494Z",
     "shell.execute_reply.started": "2022-03-30T08:16:29.095154Z"
    },
    "papermill": {
     "duration": 1.653521,
     "end_time": "2022-03-30T08:21:34.828655",
     "exception": false,
     "start_time": "2022-03-30T08:21:33.175134",
     "status": "completed"
    },
    "tags": []
   },
   "outputs": [],
   "source": [
    "import matplotlib.pyplot as plt\n",
    "\n",
    "from skimage.restoration import (denoise_tv_chambolle, denoise_bilateral,\n",
    "                                 denoise_wavelet, estimate_sigma)\n",
    "from skimage import data, img_as_float , img_as_ubyte\n",
    "from skimage.util import random_noise\n",
    "import numpy as np\n",
    "from skimage.morphology import (square, rectangle, diamond, disk, cube,\n",
    "                                octahedron, ball, octagon, star)\n",
    "import skimage\n",
    "import skimage.filters\n",
    "from topaz.utils.data.loader import load_image\n",
    "from topaz.mrc import parse\n",
    "import numpy as np\n",
    "import mrcfile"
   ]
  },
  {
   "cell_type": "code",
   "execution_count": 5,
   "id": "a8d0ca79",
   "metadata": {
    "execution": {
     "iopub.execute_input": "2022-03-30T08:21:34.956500Z",
     "iopub.status.busy": "2022-03-30T08:21:34.955661Z",
     "iopub.status.idle": "2022-03-30T08:21:34.980489Z",
     "shell.execute_reply": "2022-03-30T08:21:34.981040Z",
     "shell.execute_reply.started": "2022-03-30T08:16:29.106203Z"
    },
    "papermill": {
     "duration": 0.091756,
     "end_time": "2022-03-30T08:21:34.981273",
     "exception": false,
     "start_time": "2022-03-30T08:21:34.889517",
     "status": "completed"
    },
    "tags": []
   },
   "outputs": [],
   "source": [
    "# genearate 0 matrix of SIZE\n",
    "SIZE = 256;\n",
    "Init_Matrix = np.zeros((SIZE, SIZE))\n",
    "# random rectangles in matrix\n",
    "NUMBER_OF_RECTANGLES = 30;\n",
    "MAX_Rectangle_Size = 10;\n",
    "for i in range(NUMBER_OF_RECTANGLES):\n",
    "    x = np.random.randint(0, SIZE)\n",
    "    y = np.random.randint(0, SIZE)\n",
    "    w = MAX_Rectangle_Size\n",
    "    h = MAX_Rectangle_Size\n",
    "    Init_Matrix[x:x+w, y:y+h] = 1\n",
    "\n",
    "with open('../input/cleanset/noised/1KP8-Ap1-pj_90.mrc', 'rb') as f:\n",
    "    data = f.read()\n",
    "\n",
    "array, header, extended_header = parse(data)\n",
    "Init_Matrix = array/array.max()"
   ]
  },
  {
   "cell_type": "code",
   "execution_count": 6,
   "id": "171174c3",
   "metadata": {
    "execution": {
     "iopub.execute_input": "2022-03-30T08:21:35.115628Z",
     "iopub.status.busy": "2022-03-30T08:21:35.114922Z",
     "iopub.status.idle": "2022-03-30T08:21:35.352409Z",
     "shell.execute_reply": "2022-03-30T08:21:35.352941Z",
     "shell.execute_reply.started": "2022-03-30T08:16:29.127217Z"
    },
    "papermill": {
     "duration": 0.309651,
     "end_time": "2022-03-30T08:21:35.353187",
     "exception": false,
     "start_time": "2022-03-30T08:21:35.043536",
     "status": "completed"
    },
    "tags": []
   },
   "outputs": [
    {
     "data": {
      "text/plain": [
       "<matplotlib.image.AxesImage at 0x7f45aad8d350>"
      ]
     },
     "execution_count": 6,
     "metadata": {},
     "output_type": "execute_result"
    },
    {
     "data": {
      "image/png": "[encoded data removed]",
      "text/plain": [
       "<Figure size 432x288 with 1 Axes>"
      ]
     },
     "metadata": {
      "needs_background": "light"
     },
     "output_type": "display_data"
    }
   ],
   "source": [
    "plt.imshow(Init_Matrix, cmap='gray')"
   ]
  },
  {
   "cell_type": "code",
   "execution_count": 7,
   "id": "1028067c",
   "metadata": {
    "execution": {
     "iopub.execute_input": "2022-03-30T08:21:35.491261Z",
     "iopub.status.busy": "2022-03-30T08:21:35.489624Z",
     "iopub.status.idle": "2022-03-30T08:21:40.105657Z",
     "shell.execute_reply": "2022-03-30T08:21:40.104826Z",
     "shell.execute_reply.started": "2022-03-30T08:16:29.364419Z"
    },
    "papermill": {
     "duration": 4.688345,
     "end_time": "2022-03-30T08:21:40.105827",
     "exception": false,
     "start_time": "2022-03-30T08:21:35.417482",
     "status": "completed"
    },
    "tags": []
   },
   "outputs": [],
   "source": [
    "!rm -rf datasetA\n",
    "!rm -rf datasetB\n",
    "!rm -rf model\n",
    "!mkdir datasetA\n",
    "!mkdir datasetB\n",
    "!mkdir model"
   ]
  },
  {
   "cell_type": "code",
   "execution_count": 8,
   "id": "46e768dd",
   "metadata": {
    "execution": {
     "iopub.execute_input": "2022-03-30T08:21:40.245265Z",
     "iopub.status.busy": "2022-03-30T08:21:40.244201Z",
     "iopub.status.idle": "2022-03-30T08:21:40.323293Z",
     "shell.execute_reply": "2022-03-30T08:21:40.322574Z",
     "shell.execute_reply.started": "2022-03-30T08:16:33.973238Z"
    },
    "papermill": {
     "duration": 0.15019,
     "end_time": "2022-03-30T08:21:40.323438",
     "exception": false,
     "start_time": "2022-03-30T08:21:40.173248",
     "status": "completed"
    },
    "tags": []
   },
   "outputs": [],
   "source": [
    "for index in range(1, 11):\n",
    "    with mrcfile.new(\"./datasetA/tmp\"+str(index)+\".mrc\") as mrc:\n",
    "        noised = Init_Matrix + 0.5*random_noise(np.zeros((SIZE,SIZE)),mode='gaussian', mean=0, var=1)\n",
    "        mrc.set_data(noised.astype(np.float32))\n",
    "    with mrcfile.new(\"./datasetB/tmp\"+str(index)+\".mrc\") as mrc:\n",
    "        noised = Init_Matrix + 0.5*random_noise(np.zeros((SIZE,SIZE)),mode='gaussian', mean=0, var=1)\n",
    "        mrc.set_data(noised.astype(np.float32))"
   ]
  },
  {
   "cell_type": "code",
   "execution_count": 9,
   "id": "a7bd7771",
   "metadata": {
    "execution": {
     "iopub.execute_input": "2022-03-30T08:21:40.676703Z",
     "iopub.status.busy": "2022-03-30T08:21:40.675905Z",
     "iopub.status.idle": "2022-03-30T08:21:40.698053Z",
     "shell.execute_reply": "2022-03-30T08:21:40.697462Z",
     "shell.execute_reply.started": "2022-03-30T08:16:34.053454Z"
    },
    "papermill": {
     "duration": 0.311417,
     "end_time": "2022-03-30T08:21:40.698213",
     "exception": false,
     "start_time": "2022-03-30T08:21:40.386796",
     "status": "completed"
    },
    "tags": []
   },
   "outputs": [],
   "source": [
    "\n",
    "class UDenoiseNet(nn.Module):\n",
    "    # U-net from noise2noise paper\n",
    "    def __init__(self, nf=48, base_width=11, top_width=3):\n",
    "        super(UDenoiseNet, self).__init__()\n",
    "\n",
    "        self.enc1 = nn.Sequential( nn.Conv2d(1, nf, base_width, padding=base_width//2)\n",
    "                                 , nn.LeakyReLU(0.1)\n",
    "                                 , nn.MaxPool2d(2)\n",
    "                                 )\n",
    "        self.enc2 = nn.Sequential( nn.Conv2d(nf, nf, 3, padding=1)\n",
    "                                 , nn.LeakyReLU(0.1)\n",
    "                                 , nn.MaxPool2d(2)\n",
    "                                 )\n",
    "        self.enc3 = nn.Sequential( nn.Conv2d(nf, nf, 3, padding=1)\n",
    "                                 , nn.LeakyReLU(0.1)\n",
    "                                 , nn.MaxPool2d(2)\n",
    "                                 )\n",
    "        self.enc4 = nn.Sequential( nn.Conv2d(nf, nf, 3, padding=1)\n",
    "                                 , nn.LeakyReLU(0.1)\n",
    "                                 , nn.MaxPool2d(2)\n",
    "                                 )\n",
    "        self.enc5 = nn.Sequential( nn.Conv2d(nf, nf, 3, padding=1)\n",
    "                                 , nn.LeakyReLU(0.1)\n",
    "                                 , nn.MaxPool2d(2)\n",
    "                                 )\n",
    "        self.enc6 = nn.Sequential( nn.Conv2d(nf, nf, 3, padding=1)\n",
    "                                 , nn.LeakyReLU(0.1)\n",
    "                                 )\n",
    "\n",
    "        self.dec5 = nn.Sequential( nn.Conv2d(2*nf, 2*nf, 3, padding=1)\n",
    "                                 , nn.LeakyReLU(0.1)\n",
    "                                 , nn.Conv2d(2*nf, 2*nf, 3, padding=1)\n",
    "                                 , nn.LeakyReLU(0.1)\n",
    "                                 )\n",
    "        self.dec4 = nn.Sequential( nn.Conv2d(3*nf, 2*nf, 3, padding=1)\n",
    "                                 , nn.LeakyReLU(0.1)\n",
    "                                 , nn.Conv2d(2*nf, 2*nf, 3, padding=1)\n",
    "                                 , nn.LeakyReLU(0.1)\n",
    "                                 )\n",
    "        self.dec3 = nn.Sequential( nn.Conv2d(3*nf, 2*nf, 3, padding=1)\n",
    "                                 , nn.LeakyReLU(0.1)\n",
    "                                 , nn.Conv2d(2*nf, 2*nf, 3, padding=1)\n",
    "                                 , nn.LeakyReLU(0.1)\n",
    "                                 )\n",
    "        self.dec2 = nn.Sequential( nn.Conv2d(3*nf, 2*nf, 3, padding=1)\n",
    "                                 , nn.LeakyReLU(0.1)\n",
    "                                 , nn.Conv2d(2*nf, 2*nf, 3, padding=1)\n",
    "                                 , nn.LeakyReLU(0.1)\n",
    "                                 )\n",
    "        self.dec1 = nn.Sequential( nn.Conv2d(2*nf+1, 64, top_width, padding=top_width//2)\n",
    "                                 , nn.LeakyReLU(0.1)\n",
    "                                 , nn.Conv2d(64, 32, top_width, padding=top_width//2)\n",
    "                                 , nn.LeakyReLU(0.1)\n",
    "                                 , nn.Conv2d(32, 1, top_width, padding=top_width//2)\n",
    "                                 )\n",
    "\n",
    "    def forward(self, x):\n",
    "        # downsampling\n",
    "        p1 = self.enc1(x)\n",
    "        p2 = self.enc2(p1)\n",
    "        p3 = self.enc3(p2)\n",
    "        p4 = self.enc4(p3)\n",
    "        p5 = self.enc5(p4)\n",
    "        h = self.enc6(p5)\n",
    "\n",
    "        # upsampling\n",
    "        n = p4.size(2)\n",
    "        m = p4.size(3)\n",
    "        h = F.interpolate(h, size=(n,m), mode='nearest')\n",
    "        h = torch.cat([h, p4], 1)\n",
    "\n",
    "        h = self.dec5(h)\n",
    "\n",
    "        n = p3.size(2)\n",
    "        m = p3.size(3)\n",
    "        h = F.interpolate(h, size=(n,m), mode='nearest')\n",
    "        h = torch.cat([h, p3], 1)\n",
    "\n",
    "        h = self.dec4(h)\n",
    "\n",
    "        n = p2.size(2)\n",
    "        m = p2.size(3)\n",
    "        h = F.interpolate(h, size=(n,m), mode='nearest')\n",
    "        h = torch.cat([h, p2], 1)\n",
    "\n",
    "        h = self.dec3(h)\n",
    "\n",
    "        n = p1.size(2)\n",
    "        m = p1.size(3)\n",
    "        h = F.interpolate(h, size=(n,m), mode='nearest')\n",
    "        h = torch.cat([h, p1], 1)\n",
    "\n",
    "        h = self.dec2(h)\n",
    "\n",
    "        n = x.size(2)\n",
    "        m = x.size(3)\n",
    "        h = F.interpolate(h, size=(n,m), mode='nearest')\n",
    "        h = torch.cat([h, x], 1)\n",
    "\n",
    "        y = self.dec1(h)\n",
    "\n",
    "        return y"
   ]
  },
  {
   "cell_type": "code",
   "execution_count": 10,
   "id": "019dd110",
   "metadata": {
    "execution": {
     "iopub.execute_input": "2022-03-30T08:21:40.836639Z",
     "iopub.status.busy": "2022-03-30T08:21:40.835444Z",
     "iopub.status.idle": "2022-03-30T08:21:40.848455Z",
     "shell.execute_reply": "2022-03-30T08:21:40.848948Z",
     "shell.execute_reply.started": "2022-03-30T08:16:34.086629Z"
    },
    "papermill": {
     "duration": 0.087435,
     "end_time": "2022-03-30T08:21:40.849156",
     "exception": false,
     "start_time": "2022-03-30T08:21:40.761721",
     "status": "completed"
    },
    "tags": []
   },
   "outputs": [],
   "source": [
    "\n",
    "class PairedImages:\n",
    "    def __init__(self, x, y, crop=800, xform=True, preload=False, cutoff=0):\n",
    "        self.x = x\n",
    "        self.y = y\n",
    "        self.crop = crop\n",
    "        self.xform = xform\n",
    "        self.cutoff = cutoff\n",
    "\n",
    "        self.preload = preload\n",
    "        if preload:\n",
    "            self.x = [self.load_image(p) for p in x]\n",
    "            self.y = [self.load_image(p) for p in y]\n",
    "\n",
    "    def load_image(self, path):\n",
    "        x = np.array(load_image(path), copy=False)\n",
    "        x = x.astype(np.float32) # make sure dtype is single precision\n",
    "        mu = x.mean()\n",
    "        std = x.std()\n",
    "        x = (x - mu)/std\n",
    "        if self.cutoff > 0:\n",
    "            x[(x < -self.cutoff) | (x > self.cutoff)] = 0\n",
    "        return x\n",
    "\n",
    "    def __len__(self):\n",
    "        return len(self.x)\n",
    "\n",
    "    def __getitem__(self, i):\n",
    "        if self.preload:\n",
    "            x = self.x[i]\n",
    "            y = self.y[i]\n",
    "        else:\n",
    "            x = self.load_image(self.x[i])\n",
    "            y = self.load_image(self.y[i])\n",
    "\n",
    "        # randomly crop\n",
    "        if self.crop is not None:\n",
    "            size = self.crop\n",
    "\n",
    "            n,m = x.shape\n",
    "            i = np.random.randint(n-size+1)\n",
    "            j = np.random.randint(m-size+1)\n",
    "\n",
    "            x = x[i:i+size, j:j+size]\n",
    "            y = y[i:i+size, j:j+size]\n",
    "\n",
    "        # randomly flip\n",
    "        if self.xform:\n",
    "            if np.random.rand() > 0.5:\n",
    "                x = np.flip(x, 0)\n",
    "                y = np.flip(y, 0)\n",
    "            if np.random.rand() > 0.5:\n",
    "                x = np.flip(x, 1)\n",
    "                y = np.flip(y, 1)\n",
    "\n",
    "\n",
    "            k = np.random.randint(4)\n",
    "            x = np.rot90(x, k=k)\n",
    "            y = np.rot90(y, k=k)\n",
    "\n",
    "            # swap x and y\n",
    "            if np.random.rand() > 0.5:\n",
    "                t = x\n",
    "                x = y\n",
    "                y = t\n",
    "\n",
    "        x = np.ascontiguousarray(x)\n",
    "        y = np.ascontiguousarray(y)\n",
    "\n",
    "        return x, y\n"
   ]
  },
  {
   "cell_type": "code",
   "execution_count": 11,
   "id": "fbbc65a4",
   "metadata": {
    "execution": {
     "iopub.execute_input": "2022-03-30T08:21:40.981550Z",
     "iopub.status.busy": "2022-03-30T08:21:40.980866Z",
     "iopub.status.idle": "2022-03-30T08:21:41.018844Z",
     "shell.execute_reply": "2022-03-30T08:21:41.019395Z",
     "shell.execute_reply.started": "2022-03-30T08:16:34.108613Z"
    },
    "papermill": {
     "duration": 0.108045,
     "end_time": "2022-03-30T08:21:41.019574",
     "exception": false,
     "start_time": "2022-03-30T08:21:40.911529",
     "status": "completed"
    },
    "tags": []
   },
   "outputs": [],
   "source": [
    "model = UDenoiseNet()"
   ]
  },
  {
   "cell_type": "code",
   "execution_count": 12,
   "id": "2a03d265",
   "metadata": {
    "execution": {
     "iopub.execute_input": "2022-03-30T08:21:41.162047Z",
     "iopub.status.busy": "2022-03-30T08:21:41.160951Z",
     "iopub.status.idle": "2022-03-30T08:21:41.164034Z",
     "shell.execute_reply": "2022-03-30T08:21:41.163438Z",
     "shell.execute_reply.started": "2022-03-30T08:16:34.142256Z"
    },
    "papermill": {
     "duration": 0.08154,
     "end_time": "2022-03-30T08:21:41.164235",
     "exception": false,
     "start_time": "2022-03-30T08:21:41.082695",
     "status": "completed"
    },
    "tags": []
   },
   "outputs": [],
   "source": [
    "\n",
    "def make_paired_images_datasets(dir_a, dir_b, crop, random=np.random, holdout=0.1, preload=False, cutoff=0):\n",
    "    # train denoising model\n",
    "    # make the dataset\n",
    "    A = []\n",
    "    B = []\n",
    "    for path in glob.glob(dir_a + os.sep + '*.mrc'):\n",
    "        name = os.path.basename(path)\n",
    "        A.append(path)\n",
    "        B.append(dir_b + os.sep + name)\n",
    "\n",
    "    # randomly hold out some image pairs for validation\n",
    "    n = int(holdout*len(A))\n",
    "    order = random.permutation(len(A))\n",
    "\n",
    "    A_train = []\n",
    "    A_val = []\n",
    "    B_train = []\n",
    "    B_val = []\n",
    "    for i in range(n):\n",
    "        A_val.append(A[order[i]])\n",
    "        B_val.append(B[order[i]])\n",
    "    for i in range(n, len(A)):\n",
    "        A_train.append(A[order[i]])\n",
    "        B_train.append(B[order[i]])\n",
    "\n",
    "    print('# training with', len(A_train), 'image pairs', file=sys.stderr)\n",
    "    print('# validating on', len(A_val), 'image pairs', file=sys.stderr)\n",
    "\n",
    "    dataset_train = PairedImages(A_train, B_train, crop=crop, xform=True, preload=preload, cutoff=cutoff)\n",
    "    dataset_val = PairedImages(A_val, B_val, crop=crop, preload=preload, cutoff=cutoff)\n",
    "\n",
    "    return dataset_train, dataset_val"
   ]
  },
  {
   "cell_type": "code",
   "execution_count": 13,
   "id": "8aef0769",
   "metadata": {
    "execution": {
     "iopub.execute_input": "2022-03-30T08:21:41.302676Z",
     "iopub.status.busy": "2022-03-30T08:21:41.300391Z",
     "iopub.status.idle": "2022-03-30T08:21:41.329280Z",
     "shell.execute_reply": "2022-03-30T08:21:41.330101Z",
     "shell.execute_reply.started": "2022-03-30T08:16:34.157182Z"
    },
    "papermill": {
     "duration": 0.102361,
     "end_time": "2022-03-30T08:21:41.330336",
     "exception": false,
     "start_time": "2022-03-30T08:21:41.227975",
     "status": "completed"
    },
    "tags": []
   },
   "outputs": [
    {
     "name": "stderr",
     "output_type": "stream",
     "text": [
      "# training with 9 image pairs\n",
      "# validating on 1 image pairs\n"
     ]
    }
   ],
   "source": [
    "method = \"noise2noise\"\n",
    "paired = True\n",
    "preload = True\n",
    "holdout =  0.1\n",
    "crop = 256\n",
    "cutoff = 0\n",
    "dir_a = \"./datasetA/\"\n",
    "dir_b = \"./datasetB/\"\n",
    "dset_train = []\n",
    "dset_val = []\n",
    "\n",
    "random = np.random.RandomState(44444)\n",
    "if paired:\n",
    "    dataset_train, dataset_val = make_paired_images_datasets(dir_a, dir_b, crop\n",
    "                                                            , random=random\n",
    "                                                            , holdout=holdout\n",
    "                                                            , preload=preload \n",
    "                                                            , cutoff=cutoff\n",
    "                                                            )\n",
    "dset_train.append(dataset_train)\n",
    "dset_val.append(dataset_val)\n",
    "    \n",
    "dataset_train = dset_train[0]\n",
    "for i in range(1, len(dset_train)):\n",
    "    dataset_train.x += dset_train[i].x\n",
    "    if paired:\n",
    "        dataset_train.y += dset_train[i].y\n",
    "\n",
    "dataset_val = dset_val[0]\n",
    "for i in range(1, len(dset_val)):\n",
    "    dataset_val.x += dset_val[i].x\n",
    "    if paired:\n",
    "        dataset_val.y += dset_val[i].y\n",
    "\n",
    "shuffle = True"
   ]
  },
  {
   "cell_type": "code",
   "execution_count": 14,
   "id": "93a111c4",
   "metadata": {
    "execution": {
     "iopub.execute_input": "2022-03-30T08:21:41.470744Z",
     "iopub.status.busy": "2022-03-30T08:21:41.469725Z",
     "iopub.status.idle": "2022-03-30T08:21:41.472928Z",
     "shell.execute_reply": "2022-03-30T08:21:41.472338Z",
     "shell.execute_reply.started": "2022-03-30T08:16:34.199077Z"
    },
    "papermill": {
     "duration": 0.076541,
     "end_time": "2022-03-30T08:21:41.473125",
     "exception": false,
     "start_time": "2022-03-30T08:21:41.396584",
     "status": "completed"
    },
    "tags": []
   },
   "outputs": [],
   "source": [
    "\n",
    "def eval_noise2noise(model, dataset, criteria, batch_size=10\n",
    "                    , use_cuda=False, num_workers=0):\n",
    "    data_iterator = torch.utils.data.DataLoader(dataset, batch_size=batch_size\n",
    "                                               , num_workers=num_workers)\n",
    "\n",
    "    n = 0\n",
    "    loss = 0\n",
    "\n",
    "    model.eval()\n",
    "        \n",
    "    with torch.no_grad():\n",
    "        for x1,x2 in data_iterator:\n",
    "            if use_cuda:\n",
    "                x1 = x1.cuda()\n",
    "                x2 = x2.cuda()\n",
    "\n",
    "            x1 = x1.unsqueeze(1)\n",
    "            y = model(x1).squeeze(1)\n",
    "\n",
    "            loss_ = criteria(y, x2).item()\n",
    "\n",
    "            b = x1.size(0)\n",
    "            n += b\n",
    "            delta = b*(loss_ - loss)\n",
    "            loss += delta/n\n",
    "\n",
    "    return loss"
   ]
  },
  {
   "cell_type": "code",
   "execution_count": 15,
   "id": "d059e3a1",
   "metadata": {
    "execution": {
     "iopub.execute_input": "2022-03-30T08:21:41.625288Z",
     "iopub.status.busy": "2022-03-30T08:21:41.623998Z",
     "iopub.status.idle": "2022-03-30T08:21:41.626733Z",
     "shell.execute_reply": "2022-03-30T08:21:41.627395Z",
     "shell.execute_reply.started": "2022-03-30T08:16:34.212004Z"
    },
    "papermill": {
     "duration": 0.087355,
     "end_time": "2022-03-30T08:21:41.627607",
     "exception": false,
     "start_time": "2022-03-30T08:21:41.540252",
     "status": "completed"
    },
    "tags": []
   },
   "outputs": [],
   "source": [
    "\n",
    "def train_noise2noise(model, dataset, lr=0.001, optim='adagrad', batch_size=10, num_epochs=100\n",
    "                     , criteria=nn.MSELoss(), dataset_val=None\n",
    "                     , use_cuda=False, num_workers=0, shuffle=True):\n",
    "\n",
    "    gamma = None\n",
    "    if criteria == 'L0':\n",
    "        gamma = 2\n",
    "        eps = 1e-8\n",
    "        criteria = L0Loss(eps=eps, gamma=gamma)\n",
    "    elif criteria == 'L1':\n",
    "        criteria = nn.L1Loss()\n",
    "    elif criteria == 'L2':\n",
    "        criteria = nn.MSELoss()\n",
    "    \n",
    "    if optim == 'adam':\n",
    "        optim = torch.optim.Adam(model.parameters(), lr=lr)\n",
    "    elif optim == 'adagrad':\n",
    "        optim = torch.optim.Adagrad(model.parameters(), lr=lr)\n",
    "    elif optim == 'sgd':\n",
    "        optim = torch.optim.SGD(model.parameters(), lr=lr, nesterov=True, momentum=0.9)\n",
    "    data_iterator = torch.utils.data.DataLoader(dataset, batch_size=batch_size, shuffle=shuffle\n",
    "                                               , num_workers=num_workers)\n",
    "\n",
    "    total = len(dataset)\n",
    "\n",
    "    for epoch in range(1, num_epochs+1):\n",
    "        model.train()\n",
    "        print(\"trained\")\n",
    "        n = 0\n",
    "        loss_accum = 0\n",
    "\n",
    "        if gamma is not None:\n",
    "            # anneal gamma to 0\n",
    "            criteria.gamma = 2 - (epoch-1)*2/num_epochs\n",
    "\n",
    "        for x1,x2 in data_iterator:\n",
    "            if use_cuda:\n",
    "                x1 = x1.cuda()\n",
    "                x2 = x2.cuda()\n",
    "            print(list(x1.shape))\n",
    "            x1 = x1.unsqueeze(1)\n",
    "            y = model(x1).squeeze(1)\n",
    "\n",
    "            loss = criteria(y, x2)\n",
    "            \n",
    "            loss.backward()\n",
    "            optim.step()\n",
    "            optim.zero_grad()\n",
    "\n",
    "            loss = loss.item()\n",
    "            b = x1.size(0)\n",
    "\n",
    "            n += b\n",
    "            delta = b*(loss - loss_accum)\n",
    "            loss_accum += delta/n\n",
    "\n",
    "            print('# [{}/{}] {:.2%} loss={:.5f}'.format(epoch, num_epochs, n/total, loss_accum)\n",
    "                 , file=sys.stderr, end='\\r')\n",
    "        print(' '*80, file=sys.stderr, end='\\r')\n",
    "\n",
    "        if dataset_val is not None:\n",
    "            loss_val = eval_noise2noise(model, dataset_val, criteria\n",
    "                                       , batch_size=batch_size\n",
    "                                       , num_workers=num_workers\n",
    "                                       , use_cuda=use_cuda\n",
    "                                       )\n",
    "            yield epoch, loss_accum, loss_val\n",
    "        else:\n",
    "            yield epoch, loss_accum"
   ]
  },
  {
   "cell_type": "code",
   "execution_count": 16,
   "id": "362b5fed",
   "metadata": {
    "execution": {
     "iopub.execute_input": "2022-03-30T08:21:41.767328Z",
     "iopub.status.busy": "2022-03-30T08:21:41.766606Z",
     "iopub.status.idle": "2022-03-30T08:21:41.769138Z",
     "shell.execute_reply": "2022-03-30T08:21:41.768611Z",
     "shell.execute_reply.started": "2022-03-30T08:16:34.237094Z"
    },
    "papermill": {
     "duration": 0.073688,
     "end_time": "2022-03-30T08:21:41.769296",
     "exception": false,
     "start_time": "2022-03-30T08:21:41.695608",
     "status": "completed"
    },
    "tags": []
   },
   "outputs": [],
   "source": [
    "lr = 0.001\n",
    "optim = \"adagrad\"\n",
    "batch_size = 100\n",
    "criteria = \"L2\"\n",
    "num_epochs = 10\n",
    "use_cuda = False\n",
    "num_workers = 1\n",
    "\n",
    "iterator = train_noise2noise(model, dataset_train, lr=lr\n",
    "                                           , optim=optim\n",
    "                                           , batch_size=batch_size\n",
    "                                           , criteria=criteria\n",
    "                                           , num_epochs=num_epochs\n",
    "                                           , dataset_val=dataset_val\n",
    "                                           , use_cuda=use_cuda\n",
    "                                           , num_workers=num_workers\n",
    "                                           , shuffle=shuffle\n",
    "                                           )"
   ]
  },
  {
   "cell_type": "code",
   "execution_count": 17,
   "id": "86789ee2",
   "metadata": {
    "execution": {
     "iopub.execute_input": "2022-03-30T08:21:41.901842Z",
     "iopub.status.busy": "2022-03-30T08:21:41.901182Z",
     "iopub.status.idle": "2022-03-30T08:23:29.475499Z",
     "shell.execute_reply": "2022-03-30T08:23:29.476023Z",
     "shell.execute_reply.started": "2022-03-30T08:16:34.260356Z"
    },
    "papermill": {
     "duration": 107.641968,
     "end_time": "2022-03-30T08:23:29.476335",
     "exception": false,
     "start_time": "2022-03-30T08:21:41.834367",
     "status": "completed"
    },
    "tags": []
   },
   "outputs": [
    {
     "name": "stdout",
     "output_type": "stream",
     "text": [
      "trained\n",
      "[9, 256, 256]\n"
     ]
    },
    {
     "name": "stderr",
     "output_type": "stream",
     "text": [
      "                                                                                \r"
     ]
    },
    {
     "name": "stdout",
     "output_type": "stream",
     "text": [
      "1 1.002091407775879 0.9770440459251404\n",
      "trained\n",
      "[9, 256, 256]\n"
     ]
    },
    {
     "name": "stderr",
     "output_type": "stream",
     "text": [
      "                                                                                \r"
     ]
    },
    {
     "name": "stdout",
     "output_type": "stream",
     "text": [
      "2 0.9770920872688293 0.9124876260757446\n",
      "trained\n",
      "[9, 256, 256]\n"
     ]
    },
    {
     "name": "stderr",
     "output_type": "stream",
     "text": [
      "                                                                                \r"
     ]
    },
    {
     "name": "stdout",
     "output_type": "stream",
     "text": [
      "3 0.9131773710250854 1.1543011665344238\n",
      "trained\n",
      "[9, 256, 256]\n"
     ]
    },
    {
     "name": "stderr",
     "output_type": "stream",
     "text": [
      "                                                                                \r"
     ]
    },
    {
     "name": "stdout",
     "output_type": "stream",
     "text": [
      "4 1.156645655632019 0.8204743266105652\n",
      "trained\n",
      "[9, 256, 256]\n"
     ]
    },
    {
     "name": "stderr",
     "output_type": "stream",
     "text": [
      "                                                                                \r"
     ]
    },
    {
     "name": "stdout",
     "output_type": "stream",
     "text": [
      "5 0.8212366104125977 0.8380295038223267\n",
      "trained\n",
      "[9, 256, 256]\n"
     ]
    },
    {
     "name": "stderr",
     "output_type": "stream",
     "text": [
      "                                                                                \r"
     ]
    },
    {
     "name": "stdout",
     "output_type": "stream",
     "text": [
      "6 0.8372321724891663 0.8243677020072937\n",
      "trained\n",
      "[9, 256, 256]\n"
     ]
    },
    {
     "name": "stderr",
     "output_type": "stream",
     "text": [
      "                                                                                \r"
     ]
    },
    {
     "name": "stdout",
     "output_type": "stream",
     "text": [
      "7 0.8252198696136475 0.841266930103302\n",
      "trained\n",
      "[9, 256, 256]\n"
     ]
    },
    {
     "name": "stderr",
     "output_type": "stream",
     "text": [
      "                                                                                \r"
     ]
    },
    {
     "name": "stdout",
     "output_type": "stream",
     "text": [
      "8 0.8408610820770264 0.8020648956298828\n",
      "trained\n",
      "[9, 256, 256]\n"
     ]
    },
    {
     "name": "stderr",
     "output_type": "stream",
     "text": [
      "                                                                                \r"
     ]
    },
    {
     "name": "stdout",
     "output_type": "stream",
     "text": [
      "9 0.8018314838409424 0.7990825176239014\n",
      "trained\n",
      "[9, 256, 256]\n"
     ]
    },
    {
     "name": "stderr",
     "output_type": "stream",
     "text": [
      "                                                                                \r"
     ]
    },
    {
     "name": "stdout",
     "output_type": "stream",
     "text": [
      "10 0.7991871237754822 0.7968882322311401\n"
     ]
    }
   ],
   "source": [
    "save_prefix = \"./model/\"\n",
    "digits = int(np.ceil(np.log10(num_epochs)))\n",
    "for epoch,loss_train,loss_val in iterator:\n",
    "    print(epoch, loss_train, loss_val)\n",
    "    sys.stdout.flush()\n",
    "\n",
    "    # save the model\n",
    "    if save_prefix is not None:\n",
    "        path = save_prefix + ('_epoch{:0'+str(digits)+'}.sav').format(epoch) \n",
    "        #path = args.save_prefix + '_epoch{}.sav'.format(epoch)\n",
    "        model.cpu()\n",
    "        model.eval()\n",
    "        torch.save(model, path)\n",
    "        if use_cuda:\n",
    "            model.cuda()\n",
    "\n",
    "models = [model]"
   ]
  },
  {
   "cell_type": "code",
   "execution_count": 18,
   "id": "8441ad24",
   "metadata": {
    "execution": {
     "iopub.execute_input": "2022-03-30T08:23:29.637398Z",
     "iopub.status.busy": "2022-03-30T08:23:29.636696Z",
     "iopub.status.idle": "2022-03-30T08:23:30.419808Z",
     "shell.execute_reply": "2022-03-30T08:23:30.419210Z",
     "shell.execute_reply.started": "2022-03-30T08:20:03.543850Z"
    },
    "papermill": {
     "duration": 0.864979,
     "end_time": "2022-03-30T08:23:30.419979",
     "exception": false,
     "start_time": "2022-03-30T08:23:29.555000",
     "status": "completed"
    },
    "tags": []
   },
   "outputs": [
    {
     "name": "stdout",
     "output_type": "stream",
     "text": [
      "_epoch1.sav   _epoch2.sav  _epoch4.sav\t_epoch6.sav  _epoch8.sav\r\n",
      "_epoch10.sav  _epoch3.sav  _epoch5.sav\t_epoch7.sav  _epoch9.sav\r\n"
     ]
    }
   ],
   "source": [
    "!ls ./model"
   ]
  },
  {
   "cell_type": "code",
   "execution_count": null,
   "id": "5f325c6b",
   "metadata": {
    "papermill": {
     "duration": 0.079851,
     "end_time": "2022-03-30T08:23:30.580093",
     "exception": false,
     "start_time": "2022-03-30T08:23:30.500242",
     "status": "completed"
    },
    "tags": []
   },
   "outputs": [],
   "source": []
  }
 ],
 "metadata": {
  "kernelspec": {
   "display_name": "Python 3",
   "language": "python",
   "name": "python3"
  },
  "language_info": {
   "codemirror_mode": {
    "name": "ipython",
    "version": 3
   },
   "file_extension": ".py",
   "mimetype": "text/x-python",
   "name": "python",
   "nbconvert_exporter": "python",
   "pygments_lexer": "ipython3",
   "version": "3.7.12"
  },
  "papermill": {
   "default_parameters": {},
   "duration": 148.117595,
   "end_time": "2022-03-30T08:23:31.679875",
   "environment_variables": {},
   "exception": null,
   "input_path": "__notebook__.ipynb",
   "output_path": "__notebook__.ipynb",
   "parameters": {},
   "start_time": "2022-03-30T08:21:03.562280",
   "version": "2.3.3"
  }
 },
 "nbformat": 4,
 "nbformat_minor": 5
}
